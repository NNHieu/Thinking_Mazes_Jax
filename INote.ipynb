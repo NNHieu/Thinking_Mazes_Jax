{
 "cells": [
  {
   "cell_type": "code",
   "execution_count": 1,
   "metadata": {},
   "outputs": [],
   "source": [
    "import os\n",
    "os.environ['XLA_PYTHON_CLIENT_MEM_FRACTION']='0.8'\n",
    "os.environ['XLA_FLAGS']='--xla_gpu_strict_conv_algorithm_picker=false'"
   ]
  },
  {
   "cell_type": "code",
   "execution_count": 2,
   "metadata": {},
   "outputs": [],
   "source": [
    "%load_ext autoreload\n",
    "%autoreload 2"
   ]
  },
  {
   "cell_type": "code",
   "execution_count": 3,
   "metadata": {},
   "outputs": [],
   "source": [
    "import matplotlib.pyplot as plt\n",
    "import jax\n",
    "import jax.numpy as jnp\n",
    "import numpy as np\n",
    "import equinox as eqx\n",
    "from models import RecurModel\n",
    "from utils.train import train_epoch, eval_model, train_step, create_train_state\n",
    "from mazes_data import prepare_maze_loader, DataLoader"
   ]
  },
  {
   "cell_type": "code",
   "execution_count": 4,
   "metadata": {},
   "outputs": [
    {
     "name": "stdout",
     "output_type": "stream",
     "text": [
      "Files already downloaded and verified\n",
      "Loading mazes of size 9 x 9.\n",
      "Files already downloaded and verified\n",
      "Loading mazes of size 33 x 33.\n"
     ]
    }
   ],
   "source": [
    "DATA_ROOT = \"data\"\n",
    "datasets = prepare_maze_loader(\"data\", 9, 33)\n",
    "ds = datasets['train']"
   ]
  },
  {
   "cell_type": "code",
   "execution_count": 5,
   "metadata": {},
   "outputs": [
    {
     "data": {
      "text/plain": [
       "<matplotlib.image.AxesImage at 0x7fa5f1831940>"
      ]
     },
     "execution_count": 5,
     "metadata": {},
     "output_type": "execute_result"
    },
    {
     "data": {
      "image/png": "[encoded data removed]",
      "text/plain": [
       "<Figure size 432x288 with 1 Axes>"
      ]
     },
     "metadata": {
      "needs_background": "light"
     },
     "output_type": "display_data"
    }
   ],
   "source": [
    "plt.imshow(ds[0][0].transpose(1, 2, 0))"
   ]
  },
  {
   "cell_type": "code",
   "execution_count": 6,
   "metadata": {},
   "outputs": [
    {
     "data": {
      "text/plain": [
       "<matplotlib.image.AxesImage at 0x7fa5f172b4c0>"
      ]
     },
     "execution_count": 6,
     "metadata": {},
     "output_type": "execute_result"
    },
    {
     "data": {
      "image/png": "[encoded data removed]",
      "text/plain": [
       "<Figure size 432x288 with 1 Axes>"
      ]
     },
     "metadata": {
      "needs_background": "light"
     },
     "output_type": "display_data"
    }
   ],
   "source": [
    "plt.imshow(ds[1][0], cmap='gray')"
   ]
  },
  {
   "cell_type": "code",
   "execution_count": 7,
   "metadata": {},
   "outputs": [],
   "source": [
    "learning_rate = 0.001\n",
    "momentum = 0.9"
   ]
  },
  {
   "cell_type": "code",
   "execution_count": 8,
   "metadata": {},
   "outputs": [],
   "source": [
    "rng = jax.random.PRNGKey(0)\n",
    "rng, init_rng = jax.random.split(rng)\n",
    "state = create_train_state(init_rng, learning_rate, momentum)\n",
    "del init_rng  # Must not be used anymore."
   ]
  },
  {
   "cell_type": "code",
   "execution_count": 9,
   "metadata": {},
   "outputs": [],
   "source": [
    "batch = (jax.random.normal(rng, shape=(40, 3, 24, 24)), jax.random.normal(rng, shape=(40, 24, 24)))"
   ]
  },
  {
   "cell_type": "code",
   "execution_count": 10,
   "metadata": {},
   "outputs": [],
   "source": [
    "from utils.train import batched_predict"
   ]
  },
  {
   "cell_type": "code",
   "execution_count": 11,
   "metadata": {},
   "outputs": [],
   "source": [
    "net = RecurModel(3, 128, key=jax.random.PRNGKey(0))"
   ]
  },
  {
   "cell_type": "code",
   "execution_count": 12,
   "metadata": {},
   "outputs": [],
   "source": [
    "batched_predict_jit = jax.jit(batched_predict)"
   ]
  },
  {
   "cell_type": "code",
   "execution_count": 19,
   "metadata": {},
   "outputs": [],
   "source": [
    "net_jit = jax.jit(net.proj)"
   ]
  },
  {
   "cell_type": "code",
   "execution_count": 20,
   "metadata": {},
   "outputs": [
    {
     "ename": "TypeError",
     "evalue": "unhashable type: 'DeviceArray'",
     "output_type": "error",
     "traceback": [
      "\u001b[0;31m---------------------------------------------------------------------------\u001b[0m",
      "\u001b[0;31mTypeError\u001b[0m                                 Traceback (most recent call last)",
      "\u001b[1;32m/home/cyanos/Workspace/Thinking_Mazes_Jax/INote.ipynb Cell 14'\u001b[0m in \u001b[0;36m<cell line: 1>\u001b[0;34m()\u001b[0m\n\u001b[0;32m----> <a href='vscode-notebook-cell:/home/cyanos/Workspace/Thinking_Mazes_Jax/INote.ipynb#ch0000044?line=0'>1</a>\u001b[0m get_ipython()\u001b[39m.\u001b[39;49mrun_line_magic(\u001b[39m'\u001b[39;49m\u001b[39mtimeit\u001b[39;49m\u001b[39m'\u001b[39;49m, \u001b[39m'\u001b[39;49m\u001b[39mnet_jit(batch[0][0])\u001b[39;49m\u001b[39m'\u001b[39;49m)\n",
      "File \u001b[0;32m~/anaconda3/envs/mazes/lib/python3.9/site-packages/IPython/core/interactiveshell.py:2304\u001b[0m, in \u001b[0;36mInteractiveShell.run_line_magic\u001b[0;34m(self, magic_name, line, _stack_depth)\u001b[0m\n\u001b[1;32m   <a href='file:///home/cyanos/anaconda3/envs/mazes/lib/python3.9/site-packages/IPython/core/interactiveshell.py?line=2301'>2302</a>\u001b[0m     kwargs[\u001b[39m'\u001b[39m\u001b[39mlocal_ns\u001b[39m\u001b[39m'\u001b[39m] \u001b[39m=\u001b[39m \u001b[39mself\u001b[39m\u001b[39m.\u001b[39mget_local_scope(stack_depth)\n\u001b[1;32m   <a href='file:///home/cyanos/anaconda3/envs/mazes/lib/python3.9/site-packages/IPython/core/interactiveshell.py?line=2302'>2303</a>\u001b[0m \u001b[39mwith\u001b[39;00m \u001b[39mself\u001b[39m\u001b[39m.\u001b[39mbuiltin_trap:\n\u001b[0;32m-> <a href='file:///home/cyanos/anaconda3/envs/mazes/lib/python3.9/site-packages/IPython/core/interactiveshell.py?line=2303'>2304</a>\u001b[0m     result \u001b[39m=\u001b[39m fn(\u001b[39m*\u001b[39;49margs, \u001b[39m*\u001b[39;49m\u001b[39m*\u001b[39;49mkwargs)\n\u001b[1;32m   <a href='file:///home/cyanos/anaconda3/envs/mazes/lib/python3.9/site-packages/IPython/core/interactiveshell.py?line=2304'>2305</a>\u001b[0m \u001b[39mreturn\u001b[39;00m result\n",
      "File \u001b[0;32m~/anaconda3/envs/mazes/lib/python3.9/site-packages/IPython/core/magics/execution.py:1162\u001b[0m, in \u001b[0;36mExecutionMagics.timeit\u001b[0;34m(self, line, cell, local_ns)\u001b[0m\n\u001b[1;32m   <a href='file:///home/cyanos/anaconda3/envs/mazes/lib/python3.9/site-packages/IPython/core/magics/execution.py?line=1159'>1160</a>\u001b[0m \u001b[39mfor\u001b[39;00m index \u001b[39min\u001b[39;00m \u001b[39mrange\u001b[39m(\u001b[39m0\u001b[39m, \u001b[39m10\u001b[39m):\n\u001b[1;32m   <a href='file:///home/cyanos/anaconda3/envs/mazes/lib/python3.9/site-packages/IPython/core/magics/execution.py?line=1160'>1161</a>\u001b[0m     number \u001b[39m=\u001b[39m \u001b[39m10\u001b[39m \u001b[39m*\u001b[39m\u001b[39m*\u001b[39m index\n\u001b[0;32m-> <a href='file:///home/cyanos/anaconda3/envs/mazes/lib/python3.9/site-packages/IPython/core/magics/execution.py?line=1161'>1162</a>\u001b[0m     time_number \u001b[39m=\u001b[39m timer\u001b[39m.\u001b[39;49mtimeit(number)\n\u001b[1;32m   <a href='file:///home/cyanos/anaconda3/envs/mazes/lib/python3.9/site-packages/IPython/core/magics/execution.py?line=1162'>1163</a>\u001b[0m     \u001b[39mif\u001b[39;00m time_number \u001b[39m>\u001b[39m\u001b[39m=\u001b[39m \u001b[39m0.2\u001b[39m:\n\u001b[1;32m   <a href='file:///home/cyanos/anaconda3/envs/mazes/lib/python3.9/site-packages/IPython/core/magics/execution.py?line=1163'>1164</a>\u001b[0m         \u001b[39mbreak\u001b[39;00m\n",
      "File \u001b[0;32m~/anaconda3/envs/mazes/lib/python3.9/site-packages/IPython/core/magics/execution.py:156\u001b[0m, in \u001b[0;36mTimer.timeit\u001b[0;34m(self, number)\u001b[0m\n\u001b[1;32m    <a href='file:///home/cyanos/anaconda3/envs/mazes/lib/python3.9/site-packages/IPython/core/magics/execution.py?line=153'>154</a>\u001b[0m gc\u001b[39m.\u001b[39mdisable()\n\u001b[1;32m    <a href='file:///home/cyanos/anaconda3/envs/mazes/lib/python3.9/site-packages/IPython/core/magics/execution.py?line=154'>155</a>\u001b[0m \u001b[39mtry\u001b[39;00m:\n\u001b[0;32m--> <a href='file:///home/cyanos/anaconda3/envs/mazes/lib/python3.9/site-packages/IPython/core/magics/execution.py?line=155'>156</a>\u001b[0m     timing \u001b[39m=\u001b[39m \u001b[39mself\u001b[39;49m\u001b[39m.\u001b[39;49minner(it, \u001b[39mself\u001b[39;49m\u001b[39m.\u001b[39;49mtimer)\n\u001b[1;32m    <a href='file:///home/cyanos/anaconda3/envs/mazes/lib/python3.9/site-packages/IPython/core/magics/execution.py?line=156'>157</a>\u001b[0m \u001b[39mfinally\u001b[39;00m:\n\u001b[1;32m    <a href='file:///home/cyanos/anaconda3/envs/mazes/lib/python3.9/site-packages/IPython/core/magics/execution.py?line=157'>158</a>\u001b[0m     \u001b[39mif\u001b[39;00m gcold:\n",
      "File \u001b[0;32m<magic-timeit>:1\u001b[0m, in \u001b[0;36minner\u001b[0;34m(_it, _timer)\u001b[0m\n",
      "    \u001b[0;31m[... skipping hidden 7 frame]\u001b[0m\n",
      "File \u001b[0;32m~/anaconda3/envs/mazes/lib/python3.9/weakref.py:509\u001b[0m, in \u001b[0;36mWeakKeyDictionary.setdefault\u001b[0;34m(self, key, default)\u001b[0m\n\u001b[1;32m    <a href='file:///home/cyanos/anaconda3/envs/mazes/lib/python3.9/weakref.py?line=507'>508</a>\u001b[0m \u001b[39mdef\u001b[39;00m \u001b[39msetdefault\u001b[39m(\u001b[39mself\u001b[39m, key, default\u001b[39m=\u001b[39m\u001b[39mNone\u001b[39;00m):\n\u001b[0;32m--> <a href='file:///home/cyanos/anaconda3/envs/mazes/lib/python3.9/weakref.py?line=508'>509</a>\u001b[0m     \u001b[39mreturn\u001b[39;00m \u001b[39mself\u001b[39;49m\u001b[39m.\u001b[39;49mdata\u001b[39m.\u001b[39;49msetdefault(ref(key, \u001b[39mself\u001b[39;49m\u001b[39m.\u001b[39;49m_remove),default)\n",
      "File \u001b[0;32m~/anaconda3/envs/mazes/lib/python3.9/site-packages/equinox/module.py:232\u001b[0m, in \u001b[0;36mModule.__hash__\u001b[0;34m(self)\u001b[0m\n\u001b[1;32m    <a href='file:///home/cyanos/anaconda3/envs/mazes/lib/python3.9/site-packages/equinox/module.py?line=230'>231</a>\u001b[0m \u001b[39mdef\u001b[39;00m \u001b[39m__hash__\u001b[39m(\u001b[39mself\u001b[39m):\n\u001b[0;32m--> <a href='file:///home/cyanos/anaconda3/envs/mazes/lib/python3.9/site-packages/equinox/module.py?line=231'>232</a>\u001b[0m     \u001b[39mreturn\u001b[39;00m \u001b[39mhash\u001b[39;49m(\u001b[39mtuple\u001b[39;49m(jax\u001b[39m.\u001b[39;49mtree_leaves(\u001b[39mself\u001b[39;49m)))\n",
      "\u001b[0;31mTypeError\u001b[0m: unhashable type: 'DeviceArray'"
     ]
    }
   ],
   "source": [
    "%timeit net_jit(batch[0][0])"
   ]
  },
  {
   "cell_type": "code",
   "execution_count": 15,
   "metadata": {},
   "outputs": [
    {
     "ename": "ValueError",
     "evalue": "vmap in_axes specification must be a tree prefix of the corresponding value, got specification (None, None, 0) for value tree PyTreeDef((CustomNode(<class 'models.RecurModel'>[(('proj', 'iter_block', 'head'), (), ())], [CustomNode(<class 'equinox.nn.conv.Conv2d'>[(('weight', 'bias'), ('num_spatial_dims', 'in_channels', 'out_channels', 'kernel_size', 'stride', 'padding', 'dilation', 'use_bias'), (2, 3, 128, (3, 3), (1, 1), ((1, 1), (1, 1)), (1, 1), False))], [*, None]), CustomNode(<class 'equinox.nn.composed.Sequential'>[(('layers',), (), ())], [[CustomNode(<class 'models.BacisBlock2D'>[(('conv1', 'conv2'), (), ())], [CustomNode(<class 'equinox.nn.conv.Conv2d'>[(('weight', 'bias'), ('num_spatial_dims', 'in_channels', 'out_channels', 'kernel_size', 'stride', 'padding', 'dilation', 'use_bias'), (2, 128, 128, (3, 3), (1, 1), ((1, 1), (1, 1)), (1, 1), False))], [*, None]), CustomNode(<class 'equinox.nn.conv.Conv2d'>[(('weight', 'bias'), ('num_spatial_dims', 'in_channels', 'out_channels', 'kernel_size', 'stride', 'padding', 'dilation', 'use_bias'), (2, 128, 128, (3, 3), (1, 1), ((1, 1), (1, 1)), (1, 1), False))], [*, None])]), CustomNode(<class 'models.BacisBlock2D'>[(('conv1', 'conv2'), (), ())], [CustomNode(<class 'equinox.nn.conv.Conv2d'>[(('weight', 'bias'), ('num_spatial_dims', 'in_channels', 'out_channels', 'kernel_size', 'stride', 'padding', 'dilation', 'use_bias'), (2, 128, 128, (3, 3), (1, 1), ((1, 1), (1, 1)), (1, 1), False))], [*, None]), CustomNode(<class 'equinox.nn.conv.Conv2d'>[(('weight', 'bias'), ('num_spatial_dims', 'in_channels', 'out_channels', 'kernel_size', 'stride', 'padding', 'dilation', 'use_bias'), (2, 128, 128, (3, 3), (1, 1), ((1, 1), (1, 1)), (1, 1), False))], [*, None])])]]), [CustomNode(<class 'equinox.nn.conv.Conv2d'>[(('weight', 'bias'), ('num_spatial_dims', 'in_channels', 'out_channels', 'kernel_size', 'stride', 'padding', 'dilation', 'use_bias'), (2, 128, 32, (3, 3), (1, 1), ((1, 1), (1, 1)), (1, 1), False))], [*, None]), CustomNode(<class 'equinox.nn.conv.Conv2d'>[(('weight', 'bias'), ('num_spatial_dims', 'in_channels', 'out_channels', 'kernel_size', 'stride', 'padding', 'dilation', 'use_bias'), (2, 32, 8, (3, 3), (1, 1), ((1, 1), (1, 1)), (1, 1), False))], [*, None]), CustomNode(<class 'equinox.nn.conv.Conv2d'>[(('weight', 'bias'), ('num_spatial_dims', 'in_channels', 'out_channels', 'kernel_size', 'stride', 'padding', 'dilation', 'use_bias'), (2, 8, 2, (3, 3), (1, 1), ((1, 1), (1, 1)), (1, 1), False))], [*, None])]]), *)).",
     "output_type": "error",
     "traceback": [
      "\u001b[0;31m---------------------------------------------------------------------------\u001b[0m",
      "\u001b[0;31mValueError\u001b[0m                                Traceback (most recent call last)",
      "\u001b[1;32m/home/cyanos/Workspace/Thinking_Mazes_Jax/INote.ipynb Cell 15'\u001b[0m in \u001b[0;36m<cell line: 1>\u001b[0;34m()\u001b[0m\n\u001b[0;32m----> <a href='vscode-notebook-cell:/home/cyanos/Workspace/Thinking_Mazes_Jax/INote.ipynb#ch0000012?line=0'>1</a>\u001b[0m get_ipython()\u001b[39m.\u001b[39;49mrun_line_magic(\u001b[39m'\u001b[39;49m\u001b[39mtimeit\u001b[39;49m\u001b[39m'\u001b[39;49m, \u001b[39m'\u001b[39;49m\u001b[39mtrain_step(state, batch)\u001b[39;49m\u001b[39m'\u001b[39;49m)\n",
      "File \u001b[0;32m~/anaconda3/envs/mazes/lib/python3.9/site-packages/IPython/core/interactiveshell.py:2304\u001b[0m, in \u001b[0;36mInteractiveShell.run_line_magic\u001b[0;34m(self, magic_name, line, _stack_depth)\u001b[0m\n\u001b[1;32m   <a href='file:///home/cyanos/anaconda3/envs/mazes/lib/python3.9/site-packages/IPython/core/interactiveshell.py?line=2301'>2302</a>\u001b[0m     kwargs[\u001b[39m'\u001b[39m\u001b[39mlocal_ns\u001b[39m\u001b[39m'\u001b[39m] \u001b[39m=\u001b[39m \u001b[39mself\u001b[39m\u001b[39m.\u001b[39mget_local_scope(stack_depth)\n\u001b[1;32m   <a href='file:///home/cyanos/anaconda3/envs/mazes/lib/python3.9/site-packages/IPython/core/interactiveshell.py?line=2302'>2303</a>\u001b[0m \u001b[39mwith\u001b[39;00m \u001b[39mself\u001b[39m\u001b[39m.\u001b[39mbuiltin_trap:\n\u001b[0;32m-> <a href='file:///home/cyanos/anaconda3/envs/mazes/lib/python3.9/site-packages/IPython/core/interactiveshell.py?line=2303'>2304</a>\u001b[0m     result \u001b[39m=\u001b[39m fn(\u001b[39m*\u001b[39;49margs, \u001b[39m*\u001b[39;49m\u001b[39m*\u001b[39;49mkwargs)\n\u001b[1;32m   <a href='file:///home/cyanos/anaconda3/envs/mazes/lib/python3.9/site-packages/IPython/core/interactiveshell.py?line=2304'>2305</a>\u001b[0m \u001b[39mreturn\u001b[39;00m result\n",
      "File \u001b[0;32m~/anaconda3/envs/mazes/lib/python3.9/site-packages/IPython/core/magics/execution.py:1162\u001b[0m, in \u001b[0;36mExecutionMagics.timeit\u001b[0;34m(self, line, cell, local_ns)\u001b[0m\n\u001b[1;32m   <a href='file:///home/cyanos/anaconda3/envs/mazes/lib/python3.9/site-packages/IPython/core/magics/execution.py?line=1159'>1160</a>\u001b[0m \u001b[39mfor\u001b[39;00m index \u001b[39min\u001b[39;00m \u001b[39mrange\u001b[39m(\u001b[39m0\u001b[39m, \u001b[39m10\u001b[39m):\n\u001b[1;32m   <a href='file:///home/cyanos/anaconda3/envs/mazes/lib/python3.9/site-packages/IPython/core/magics/execution.py?line=1160'>1161</a>\u001b[0m     number \u001b[39m=\u001b[39m \u001b[39m10\u001b[39m \u001b[39m*\u001b[39m\u001b[39m*\u001b[39m index\n\u001b[0;32m-> <a href='file:///home/cyanos/anaconda3/envs/mazes/lib/python3.9/site-packages/IPython/core/magics/execution.py?line=1161'>1162</a>\u001b[0m     time_number \u001b[39m=\u001b[39m timer\u001b[39m.\u001b[39;49mtimeit(number)\n\u001b[1;32m   <a href='file:///home/cyanos/anaconda3/envs/mazes/lib/python3.9/site-packages/IPython/core/magics/execution.py?line=1162'>1163</a>\u001b[0m     \u001b[39mif\u001b[39;00m time_number \u001b[39m>\u001b[39m\u001b[39m=\u001b[39m \u001b[39m0.2\u001b[39m:\n\u001b[1;32m   <a href='file:///home/cyanos/anaconda3/envs/mazes/lib/python3.9/site-packages/IPython/core/magics/execution.py?line=1163'>1164</a>\u001b[0m         \u001b[39mbreak\u001b[39;00m\n",
      "File \u001b[0;32m~/anaconda3/envs/mazes/lib/python3.9/site-packages/IPython/core/magics/execution.py:156\u001b[0m, in \u001b[0;36mTimer.timeit\u001b[0;34m(self, number)\u001b[0m\n\u001b[1;32m    <a href='file:///home/cyanos/anaconda3/envs/mazes/lib/python3.9/site-packages/IPython/core/magics/execution.py?line=153'>154</a>\u001b[0m gc\u001b[39m.\u001b[39mdisable()\n\u001b[1;32m    <a href='file:///home/cyanos/anaconda3/envs/mazes/lib/python3.9/site-packages/IPython/core/magics/execution.py?line=154'>155</a>\u001b[0m \u001b[39mtry\u001b[39;00m:\n\u001b[0;32m--> <a href='file:///home/cyanos/anaconda3/envs/mazes/lib/python3.9/site-packages/IPython/core/magics/execution.py?line=155'>156</a>\u001b[0m     timing \u001b[39m=\u001b[39m \u001b[39mself\u001b[39;49m\u001b[39m.\u001b[39;49minner(it, \u001b[39mself\u001b[39;49m\u001b[39m.\u001b[39;49mtimer)\n\u001b[1;32m    <a href='file:///home/cyanos/anaconda3/envs/mazes/lib/python3.9/site-packages/IPython/core/magics/execution.py?line=156'>157</a>\u001b[0m \u001b[39mfinally\u001b[39;00m:\n\u001b[1;32m    <a href='file:///home/cyanos/anaconda3/envs/mazes/lib/python3.9/site-packages/IPython/core/magics/execution.py?line=157'>158</a>\u001b[0m     \u001b[39mif\u001b[39;00m gcold:\n",
      "File \u001b[0;32m<magic-timeit>:1\u001b[0m, in \u001b[0;36minner\u001b[0;34m(_it, _timer)\u001b[0m\n",
      "File \u001b[0;32m~/anaconda3/envs/mazes/lib/python3.9/site-packages/equinox/jit.py:92\u001b[0m, in \u001b[0;36m_JitWrapper.__call__\u001b[0;34m(_JitWrapper__self, *args, **kwargs)\u001b[0m\n\u001b[1;32m     <a href='file:///home/cyanos/anaconda3/envs/mazes/lib/python3.9/site-packages/equinox/jit.py?line=90'>91</a>\u001b[0m \u001b[39mdef\u001b[39;00m \u001b[39m__call__\u001b[39m(__self, \u001b[39m*\u001b[39margs, \u001b[39m*\u001b[39m\u001b[39m*\u001b[39mkwargs):\n\u001b[0;32m---> <a href='file:///home/cyanos/anaconda3/envs/mazes/lib/python3.9/site-packages/equinox/jit.py?line=91'>92</a>\u001b[0m     \u001b[39mreturn\u001b[39;00m __self\u001b[39m.\u001b[39;49m_fun_wrapper(\u001b[39mFalse\u001b[39;49;00m, args, kwargs)\n",
      "File \u001b[0;32m~/anaconda3/envs/mazes/lib/python3.9/site-packages/equinox/jit.py:88\u001b[0m, in \u001b[0;36m_JitWrapper._fun_wrapper\u001b[0;34m(self, is_lower, args, kwargs)\u001b[0m\n\u001b[1;32m     <a href='file:///home/cyanos/anaconda3/envs/mazes/lib/python3.9/site-packages/equinox/jit.py?line=85'>86</a>\u001b[0m     \u001b[39mreturn\u001b[39;00m \u001b[39mself\u001b[39m\u001b[39m.\u001b[39m_cached\u001b[39m.\u001b[39mlower(dynamic, static)\n\u001b[1;32m     <a href='file:///home/cyanos/anaconda3/envs/mazes/lib/python3.9/site-packages/equinox/jit.py?line=86'>87</a>\u001b[0m \u001b[39melse\u001b[39;00m:\n\u001b[0;32m---> <a href='file:///home/cyanos/anaconda3/envs/mazes/lib/python3.9/site-packages/equinox/jit.py?line=87'>88</a>\u001b[0m     dynamic_out, static_out \u001b[39m=\u001b[39m \u001b[39mself\u001b[39;49m\u001b[39m.\u001b[39;49m_cached(dynamic, static)\n\u001b[1;32m     <a href='file:///home/cyanos/anaconda3/envs/mazes/lib/python3.9/site-packages/equinox/jit.py?line=88'>89</a>\u001b[0m     \u001b[39mreturn\u001b[39;00m combine(dynamic_out, static_out\u001b[39m.\u001b[39mvalue)\n",
      "    \u001b[0;31m[... skipping hidden 14 frame]\u001b[0m\n",
      "File \u001b[0;32m~/anaconda3/envs/mazes/lib/python3.9/site-packages/equinox/jit.py:39\u001b[0m, in \u001b[0;36m_filter_jit_cache.<locals>.fun_wrapped\u001b[0;34m(dynamic, static)\u001b[0m\n\u001b[1;32m     <a href='file:///home/cyanos/anaconda3/envs/mazes/lib/python3.9/site-packages/equinox/jit.py?line=34'>35</a>\u001b[0m fun \u001b[39m=\u001b[39m hashable_combine(dynamic_fun, static_fun_leaves, static_fun_treedef)\n\u001b[1;32m     <a href='file:///home/cyanos/anaconda3/envs/mazes/lib/python3.9/site-packages/equinox/jit.py?line=35'>36</a>\u001b[0m args, kwargs \u001b[39m=\u001b[39m hashable_combine(\n\u001b[1;32m     <a href='file:///home/cyanos/anaconda3/envs/mazes/lib/python3.9/site-packages/equinox/jit.py?line=36'>37</a>\u001b[0m     dynamic_spec, static_spec_leaves, static_spec_treedef\n\u001b[1;32m     <a href='file:///home/cyanos/anaconda3/envs/mazes/lib/python3.9/site-packages/equinox/jit.py?line=37'>38</a>\u001b[0m )\n\u001b[0;32m---> <a href='file:///home/cyanos/anaconda3/envs/mazes/lib/python3.9/site-packages/equinox/jit.py?line=38'>39</a>\u001b[0m out \u001b[39m=\u001b[39m fun(\u001b[39m*\u001b[39;49margs, \u001b[39m*\u001b[39;49m\u001b[39m*\u001b[39;49mkwargs)\n\u001b[1;32m     <a href='file:///home/cyanos/anaconda3/envs/mazes/lib/python3.9/site-packages/equinox/jit.py?line=39'>40</a>\u001b[0m dynamic_out, static_out \u001b[39m=\u001b[39m partition(out, filter_out)\n\u001b[1;32m     <a href='file:///home/cyanos/anaconda3/envs/mazes/lib/python3.9/site-packages/equinox/jit.py?line=40'>41</a>\u001b[0m \u001b[39mreturn\u001b[39;00m dynamic_out, Static(static_out)\n",
      "File \u001b[0;32m~/Workspace/Thinking_Mazes_Jax/utils/train.py:50\u001b[0m, in \u001b[0;36mtrain_step\u001b[0;34m(state, batch)\u001b[0m\n\u001b[1;32m     <a href='file:///home/cyanos/Workspace/Thinking_Mazes_Jax/utils/train.py?line=47'>48</a>\u001b[0m net \u001b[39m=\u001b[39m eqx\u001b[39m.\u001b[39mcombine(params[\u001b[39m0\u001b[39m], static)\n\u001b[1;32m     <a href='file:///home/cyanos/Workspace/Thinking_Mazes_Jax/utils/train.py?line=48'>49</a>\u001b[0m grad_fn \u001b[39m=\u001b[39m eqx\u001b[39m.\u001b[39mfilter_value_and_grad(\u001b[39mlambda\u001b[39;00m net: loss_fn(net, images, targets), has_aux\u001b[39m=\u001b[39m\u001b[39mTrue\u001b[39;00m)\n\u001b[0;32m---> <a href='file:///home/cyanos/Workspace/Thinking_Mazes_Jax/utils/train.py?line=49'>50</a>\u001b[0m (loss, logits), grads \u001b[39m=\u001b[39m grad_fn(net)\n\u001b[1;32m     <a href='file:///home/cyanos/Workspace/Thinking_Mazes_Jax/utils/train.py?line=50'>51</a>\u001b[0m updates, opt_state \u001b[39m=\u001b[39m tx\u001b[39m.\u001b[39mupdate((grads,), opt_state)\n\u001b[1;32m     <a href='file:///home/cyanos/Workspace/Thinking_Mazes_Jax/utils/train.py?line=51'>52</a>\u001b[0m params \u001b[39m=\u001b[39m optax\u001b[39m.\u001b[39mapply_updates(params, updates)\n",
      "File \u001b[0;32m~/anaconda3/envs/mazes/lib/python3.9/site-packages/equinox/grad.py:29\u001b[0m, in \u001b[0;36m_ValueAndGradWrapper.__call__\u001b[0;34m(_ValueAndGradWrapper__self, _ValueAndGradWrapper__x, *args, **kwargs)\u001b[0m\n\u001b[1;32m     <a href='file:///home/cyanos/anaconda3/envs/mazes/lib/python3.9/site-packages/equinox/grad.py?line=25'>26</a>\u001b[0m     \u001b[39mreturn\u001b[39;00m __self\u001b[39m.\u001b[39m_fun(_x, \u001b[39m*\u001b[39m_args, \u001b[39m*\u001b[39m\u001b[39m*\u001b[39m_kwargs)\n\u001b[1;32m     <a href='file:///home/cyanos/anaconda3/envs/mazes/lib/python3.9/site-packages/equinox/grad.py?line=27'>28</a>\u001b[0m diff_x, nondiff_x \u001b[39m=\u001b[39m partition(__x, __self\u001b[39m.\u001b[39m_arg)\n\u001b[0;32m---> <a href='file:///home/cyanos/anaconda3/envs/mazes/lib/python3.9/site-packages/equinox/grad.py?line=28'>29</a>\u001b[0m \u001b[39mreturn\u001b[39;00m fun_value_and_grad(diff_x, nondiff_x, \u001b[39m*\u001b[39;49margs, \u001b[39m*\u001b[39;49m\u001b[39m*\u001b[39;49mkwargs)\n",
      "    \u001b[0;31m[... skipping hidden 8 frame]\u001b[0m\n",
      "File \u001b[0;32m~/anaconda3/envs/mazes/lib/python3.9/site-packages/equinox/grad.py:26\u001b[0m, in \u001b[0;36m_ValueAndGradWrapper.__call__.<locals>.fun_value_and_grad\u001b[0;34m(_diff_x, _nondiff_x, *_args, **_kwargs)\u001b[0m\n\u001b[1;32m     <a href='file:///home/cyanos/anaconda3/envs/mazes/lib/python3.9/site-packages/equinox/grad.py?line=22'>23</a>\u001b[0m \u001b[39m@ft\u001b[39m\u001b[39m.\u001b[39mpartial(jax\u001b[39m.\u001b[39mvalue_and_grad, argnums\u001b[39m=\u001b[39m\u001b[39m0\u001b[39m, \u001b[39m*\u001b[39m\u001b[39m*\u001b[39m__self\u001b[39m.\u001b[39m_gradkwargs)\n\u001b[1;32m     <a href='file:///home/cyanos/anaconda3/envs/mazes/lib/python3.9/site-packages/equinox/grad.py?line=23'>24</a>\u001b[0m \u001b[39mdef\u001b[39;00m \u001b[39mfun_value_and_grad\u001b[39m(_diff_x, _nondiff_x, \u001b[39m*\u001b[39m_args, \u001b[39m*\u001b[39m\u001b[39m*\u001b[39m_kwargs):\n\u001b[1;32m     <a href='file:///home/cyanos/anaconda3/envs/mazes/lib/python3.9/site-packages/equinox/grad.py?line=24'>25</a>\u001b[0m     _x \u001b[39m=\u001b[39m combine(_diff_x, _nondiff_x)\n\u001b[0;32m---> <a href='file:///home/cyanos/anaconda3/envs/mazes/lib/python3.9/site-packages/equinox/grad.py?line=25'>26</a>\u001b[0m     \u001b[39mreturn\u001b[39;00m __self\u001b[39m.\u001b[39;49m_fun(_x, \u001b[39m*\u001b[39;49m_args, \u001b[39m*\u001b[39;49m\u001b[39m*\u001b[39;49m_kwargs)\n",
      "File \u001b[0;32m~/Workspace/Thinking_Mazes_Jax/utils/train.py:49\u001b[0m, in \u001b[0;36mtrain_step.<locals>.<lambda>\u001b[0;34m(net)\u001b[0m\n\u001b[1;32m     <a href='file:///home/cyanos/Workspace/Thinking_Mazes_Jax/utils/train.py?line=46'>47</a>\u001b[0m images, targets \u001b[39m=\u001b[39m batch\n\u001b[1;32m     <a href='file:///home/cyanos/Workspace/Thinking_Mazes_Jax/utils/train.py?line=47'>48</a>\u001b[0m net \u001b[39m=\u001b[39m eqx\u001b[39m.\u001b[39mcombine(params[\u001b[39m0\u001b[39m], static)\n\u001b[0;32m---> <a href='file:///home/cyanos/Workspace/Thinking_Mazes_Jax/utils/train.py?line=48'>49</a>\u001b[0m grad_fn \u001b[39m=\u001b[39m eqx\u001b[39m.\u001b[39mfilter_value_and_grad(\u001b[39mlambda\u001b[39;00m net: loss_fn(net, images, targets), has_aux\u001b[39m=\u001b[39m\u001b[39mTrue\u001b[39;00m)\n\u001b[1;32m     <a href='file:///home/cyanos/Workspace/Thinking_Mazes_Jax/utils/train.py?line=49'>50</a>\u001b[0m (loss, logits), grads \u001b[39m=\u001b[39m grad_fn(net)\n\u001b[1;32m     <a href='file:///home/cyanos/Workspace/Thinking_Mazes_Jax/utils/train.py?line=50'>51</a>\u001b[0m updates, opt_state \u001b[39m=\u001b[39m tx\u001b[39m.\u001b[39mupdate((grads,), opt_state)\n",
      "File \u001b[0;32m~/Workspace/Thinking_Mazes_Jax/utils/train.py:19\u001b[0m, in \u001b[0;36mloss_fn\u001b[0;34m(net, images, targets)\u001b[0m\n\u001b[1;32m     <a href='file:///home/cyanos/Workspace/Thinking_Mazes_Jax/utils/train.py?line=17'>18</a>\u001b[0m \u001b[39mdef\u001b[39;00m \u001b[39mloss_fn\u001b[39m(net, images, targets):\n\u001b[0;32m---> <a href='file:///home/cyanos/Workspace/Thinking_Mazes_Jax/utils/train.py?line=18'>19</a>\u001b[0m   logits \u001b[39m=\u001b[39m batched_predict(net, images)\u001b[39m.\u001b[39mtranspose(\u001b[39m0\u001b[39m, \u001b[39m2\u001b[39m, \u001b[39m3\u001b[39m, \u001b[39m1\u001b[39m)\n\u001b[1;32m     <a href='file:///home/cyanos/Workspace/Thinking_Mazes_Jax/utils/train.py?line=19'>20</a>\u001b[0m   targets_onehot \u001b[39m=\u001b[39m jax\u001b[39m.\u001b[39mnn\u001b[39m.\u001b[39mone_hot(targets, \u001b[39m2\u001b[39m, axis\u001b[39m=\u001b[39m\u001b[39m-\u001b[39m\u001b[39m1\u001b[39m)\n\u001b[1;32m     <a href='file:///home/cyanos/Workspace/Thinking_Mazes_Jax/utils/train.py?line=20'>21</a>\u001b[0m   \u001b[39mreturn\u001b[39;00m jnp\u001b[39m.\u001b[39mmean(optax\u001b[39m.\u001b[39msoftmax_cross_entropy(logits, targets_onehot)), logits\n",
      "    \u001b[0;31m[... skipping hidden 2 frame]\u001b[0m\n",
      "File \u001b[0;32m~/anaconda3/envs/mazes/lib/python3.9/site-packages/jax/_src/api_util.py:306\u001b[0m, in \u001b[0;36mflatten_axes\u001b[0;34m(name, treedef, axis_tree, kws, tupled_args)\u001b[0m\n\u001b[1;32m    <a href='file:///home/cyanos/anaconda3/envs/mazes/lib/python3.9/site-packages/jax/_src/api_util.py?line=301'>302</a>\u001b[0m       \u001b[39melse\u001b[39;00m:\n\u001b[1;32m    <a href='file:///home/cyanos/anaconda3/envs/mazes/lib/python3.9/site-packages/jax/_src/api_util.py?line=302'>303</a>\u001b[0m         hint \u001b[39m+\u001b[39m\u001b[39m=\u001b[39m (\u001b[39mf\u001b[39m\u001b[39m\"\u001b[39m\u001b[39m In particular, you\u001b[39m\u001b[39m'\u001b[39m\u001b[39mre passing in a single argument which \u001b[39m\u001b[39m\"\u001b[39m\n\u001b[1;32m    <a href='file:///home/cyanos/anaconda3/envs/mazes/lib/python3.9/site-packages/jax/_src/api_util.py?line=303'>304</a>\u001b[0m                  \u001b[39mf\u001b[39m\u001b[39m\"\u001b[39m\u001b[39mmeans that \u001b[39m\u001b[39m{\u001b[39;00mname\u001b[39m}\u001b[39;00m\u001b[39m might need to be wrapped in \u001b[39m\u001b[39m\"\u001b[39m\n\u001b[1;32m    <a href='file:///home/cyanos/anaconda3/envs/mazes/lib/python3.9/site-packages/jax/_src/api_util.py?line=304'>305</a>\u001b[0m                  \u001b[39mf\u001b[39m\u001b[39m\"\u001b[39m\u001b[39ma singleton tuple.\u001b[39m\u001b[39m\"\u001b[39m)\n\u001b[0;32m--> <a href='file:///home/cyanos/anaconda3/envs/mazes/lib/python3.9/site-packages/jax/_src/api_util.py?line=305'>306</a>\u001b[0m   \u001b[39mraise\u001b[39;00m \u001b[39mValueError\u001b[39;00m(\u001b[39mf\u001b[39m\u001b[39m\"\u001b[39m\u001b[39m{\u001b[39;00mname\u001b[39m}\u001b[39;00m\u001b[39m specification must be a tree prefix of the \u001b[39m\u001b[39m\"\u001b[39m\n\u001b[1;32m    <a href='file:///home/cyanos/anaconda3/envs/mazes/lib/python3.9/site-packages/jax/_src/api_util.py?line=306'>307</a>\u001b[0m                    \u001b[39mf\u001b[39m\u001b[39m\"\u001b[39m\u001b[39mcorresponding value, got specification \u001b[39m\u001b[39m{\u001b[39;00maxis_tree\u001b[39m}\u001b[39;00m\u001b[39m \u001b[39m\u001b[39m\"\u001b[39m\n\u001b[1;32m    <a href='file:///home/cyanos/anaconda3/envs/mazes/lib/python3.9/site-packages/jax/_src/api_util.py?line=307'>308</a>\u001b[0m                    \u001b[39mf\u001b[39m\u001b[39m\"\u001b[39m\u001b[39mfor value tree \u001b[39m\u001b[39m{\u001b[39;00mtreedef\u001b[39m}\u001b[39;00m\u001b[39m.\u001b[39m\u001b[39m{\u001b[39;00mhint\u001b[39m}\u001b[39;00m\u001b[39m\"\u001b[39m) \u001b[39mfrom\u001b[39;00m \u001b[39mNone\u001b[39m\n\u001b[1;32m    <a href='file:///home/cyanos/anaconda3/envs/mazes/lib/python3.9/site-packages/jax/_src/api_util.py?line=308'>309</a>\u001b[0m axes \u001b[39m=\u001b[39m [\u001b[39mNone\u001b[39;00m \u001b[39mif\u001b[39;00m a \u001b[39mis\u001b[39;00m proxy \u001b[39melse\u001b[39;00m a \u001b[39mfor\u001b[39;00m a \u001b[39min\u001b[39;00m axes]\n\u001b[1;32m    <a href='file:///home/cyanos/anaconda3/envs/mazes/lib/python3.9/site-packages/jax/_src/api_util.py?line=309'>310</a>\u001b[0m \u001b[39massert\u001b[39;00m \u001b[39mlen\u001b[39m(axes) \u001b[39m==\u001b[39m treedef\u001b[39m.\u001b[39mnum_leaves\n",
      "\u001b[0;31mValueError\u001b[0m: vmap in_axes specification must be a tree prefix of the corresponding value, got specification (None, None, 0) for value tree PyTreeDef((CustomNode(<class 'models.RecurModel'>[(('proj', 'iter_block', 'head'), (), ())], [CustomNode(<class 'equinox.nn.conv.Conv2d'>[(('weight', 'bias'), ('num_spatial_dims', 'in_channels', 'out_channels', 'kernel_size', 'stride', 'padding', 'dilation', 'use_bias'), (2, 3, 128, (3, 3), (1, 1), ((1, 1), (1, 1)), (1, 1), False))], [*, None]), CustomNode(<class 'equinox.nn.composed.Sequential'>[(('layers',), (), ())], [[CustomNode(<class 'models.BacisBlock2D'>[(('conv1', 'conv2'), (), ())], [CustomNode(<class 'equinox.nn.conv.Conv2d'>[(('weight', 'bias'), ('num_spatial_dims', 'in_channels', 'out_channels', 'kernel_size', 'stride', 'padding', 'dilation', 'use_bias'), (2, 128, 128, (3, 3), (1, 1), ((1, 1), (1, 1)), (1, 1), False))], [*, None]), CustomNode(<class 'equinox.nn.conv.Conv2d'>[(('weight', 'bias'), ('num_spatial_dims', 'in_channels', 'out_channels', 'kernel_size', 'stride', 'padding', 'dilation', 'use_bias'), (2, 128, 128, (3, 3), (1, 1), ((1, 1), (1, 1)), (1, 1), False))], [*, None])]), CustomNode(<class 'models.BacisBlock2D'>[(('conv1', 'conv2'), (), ())], [CustomNode(<class 'equinox.nn.conv.Conv2d'>[(('weight', 'bias'), ('num_spatial_dims', 'in_channels', 'out_channels', 'kernel_size', 'stride', 'padding', 'dilation', 'use_bias'), (2, 128, 128, (3, 3), (1, 1), ((1, 1), (1, 1)), (1, 1), False))], [*, None]), CustomNode(<class 'equinox.nn.conv.Conv2d'>[(('weight', 'bias'), ('num_spatial_dims', 'in_channels', 'out_channels', 'kernel_size', 'stride', 'padding', 'dilation', 'use_bias'), (2, 128, 128, (3, 3), (1, 1), ((1, 1), (1, 1)), (1, 1), False))], [*, None])])]]), [CustomNode(<class 'equinox.nn.conv.Conv2d'>[(('weight', 'bias'), ('num_spatial_dims', 'in_channels', 'out_channels', 'kernel_size', 'stride', 'padding', 'dilation', 'use_bias'), (2, 128, 32, (3, 3), (1, 1), ((1, 1), (1, 1)), (1, 1), False))], [*, None]), CustomNode(<class 'equinox.nn.conv.Conv2d'>[(('weight', 'bias'), ('num_spatial_dims', 'in_channels', 'out_channels', 'kernel_size', 'stride', 'padding', 'dilation', 'use_bias'), (2, 32, 8, (3, 3), (1, 1), ((1, 1), (1, 1)), (1, 1), False))], [*, None]), CustomNode(<class 'equinox.nn.conv.Conv2d'>[(('weight', 'bias'), ('num_spatial_dims', 'in_channels', 'out_channels', 'kernel_size', 'stride', 'padding', 'dilation', 'use_bias'), (2, 8, 2, (3, 3), (1, 1), ((1, 1), (1, 1)), (1, 1), False))], [*, None])]]), *))."
     ]
    }
   ],
   "source": [
    "%timeit train_step(state, batch)"
   ]
  },
  {
   "cell_type": "code",
   "execution_count": 13,
   "metadata": {},
   "outputs": [],
   "source": [
    "num_epochs = 150\n",
    "batch_size = 40"
   ]
  },
  {
   "cell_type": "code",
   "execution_count": 14,
   "metadata": {},
   "outputs": [],
   "source": [
    "import time"
   ]
  },
  {
   "cell_type": "code",
   "execution_count": 15,
   "metadata": {},
   "outputs": [
    {
     "name": "stderr",
     "output_type": "stream",
     "text": [
      "100%|██████████| 1000/1000 [05:29<00:00,  3.03it/s]\n"
     ]
    },
    {
     "name": "stdout",
     "output_type": "stream",
     "text": [
      "train epoch: 1, loss: 0.2074, accuracy: 0.00\n",
      "Epoch 1 in 330.95 sec\n"
     ]
    },
    {
     "name": "stderr",
     "output_type": "stream",
     "text": [
      "  2%|▏         | 18/1000 [00:06<05:41,  2.87it/s]\n"
     ]
    },
    {
     "ename": "KeyboardInterrupt",
     "evalue": "",
     "output_type": "error",
     "traceback": [
      "\u001b[0;31m---------------------------------------------------------------------------\u001b[0m",
      "\u001b[0;31mKeyboardInterrupt\u001b[0m                         Traceback (most recent call last)",
      "\u001b[1;32m/home/cyanos/Workspace/Thinking_Mazes_Jax/INote.ipynb Cell 13'\u001b[0m in \u001b[0;36m<cell line: 3>\u001b[0;34m()\u001b[0m\n\u001b[1;32m      <a href='vscode-notebook-cell:/home/cyanos/Workspace/Thinking_Mazes_Jax/INote.ipynb#ch0000019?line=6'>7</a>\u001b[0m \u001b[39m# perms = ds_perms(50, skey, datasets['train'])\u001b[39;00m\n\u001b[1;32m      <a href='vscode-notebook-cell:/home/cyanos/Workspace/Thinking_Mazes_Jax/INote.ipynb#ch0000019?line=7'>8</a>\u001b[0m dl\u001b[39m.\u001b[39mnew_perms(skey)\n\u001b[0;32m----> <a href='vscode-notebook-cell:/home/cyanos/Workspace/Thinking_Mazes_Jax/INote.ipynb#ch0000019?line=8'>9</a>\u001b[0m state \u001b[39m=\u001b[39m train_epoch(state, dl, epoch)\n\u001b[1;32m     <a href='vscode-notebook-cell:/home/cyanos/Workspace/Thinking_Mazes_Jax/INote.ipynb#ch0000019?line=9'>10</a>\u001b[0m epoch_time \u001b[39m=\u001b[39m time\u001b[39m.\u001b[39mtime() \u001b[39m-\u001b[39m start_time\n\u001b[1;32m     <a href='vscode-notebook-cell:/home/cyanos/Workspace/Thinking_Mazes_Jax/INote.ipynb#ch0000019?line=10'>11</a>\u001b[0m \u001b[39mprint\u001b[39m(\u001b[39m\"\u001b[39m\u001b[39mEpoch \u001b[39m\u001b[39m{}\u001b[39;00m\u001b[39m in \u001b[39m\u001b[39m{:0.2f}\u001b[39;00m\u001b[39m sec\u001b[39m\u001b[39m\"\u001b[39m\u001b[39m.\u001b[39mformat(epoch, epoch_time))\n",
      "File \u001b[0;32m~/Workspace/Thinking_Mazes_Jax/utils/train.py:83\u001b[0m, in \u001b[0;36mtrain_epoch\u001b[0;34m(state, dataloader, epoch)\u001b[0m\n\u001b[1;32m     <a href='file:///home/cyanos/Workspace/Thinking_Mazes_Jax/utils/train.py?line=80'>81</a>\u001b[0m batch_metrics \u001b[39m=\u001b[39m []\n\u001b[1;32m     <a href='file:///home/cyanos/Workspace/Thinking_Mazes_Jax/utils/train.py?line=81'>82</a>\u001b[0m \u001b[39mfor\u001b[39;00m batch \u001b[39min\u001b[39;00m tqdm(dataloader):\n\u001b[0;32m---> <a href='file:///home/cyanos/Workspace/Thinking_Mazes_Jax/utils/train.py?line=82'>83</a>\u001b[0m   state, metrics \u001b[39m=\u001b[39m train_step(state, batch)\n\u001b[1;32m     <a href='file:///home/cyanos/Workspace/Thinking_Mazes_Jax/utils/train.py?line=83'>84</a>\u001b[0m   batch_metrics\u001b[39m.\u001b[39mappend(metrics)\n\u001b[1;32m     <a href='file:///home/cyanos/Workspace/Thinking_Mazes_Jax/utils/train.py?line=85'>86</a>\u001b[0m \u001b[39m# compute mean of metrics across each batch in epoch.\u001b[39;00m\n",
      "File \u001b[0;32m~/anaconda3/envs/mazes/lib/python3.9/site-packages/equinox/jit.py:92\u001b[0m, in \u001b[0;36m_JitWrapper.__call__\u001b[0;34m(_JitWrapper__self, *args, **kwargs)\u001b[0m\n\u001b[1;32m     <a href='file:///home/cyanos/anaconda3/envs/mazes/lib/python3.9/site-packages/equinox/jit.py?line=90'>91</a>\u001b[0m \u001b[39mdef\u001b[39;00m \u001b[39m__call__\u001b[39m(__self, \u001b[39m*\u001b[39margs, \u001b[39m*\u001b[39m\u001b[39m*\u001b[39mkwargs):\n\u001b[0;32m---> <a href='file:///home/cyanos/anaconda3/envs/mazes/lib/python3.9/site-packages/equinox/jit.py?line=91'>92</a>\u001b[0m     \u001b[39mreturn\u001b[39;00m __self\u001b[39m.\u001b[39;49m_fun_wrapper(\u001b[39mFalse\u001b[39;49;00m, args, kwargs)\n",
      "File \u001b[0;32m~/anaconda3/envs/mazes/lib/python3.9/site-packages/equinox/jit.py:88\u001b[0m, in \u001b[0;36m_JitWrapper._fun_wrapper\u001b[0;34m(self, is_lower, args, kwargs)\u001b[0m\n\u001b[1;32m     <a href='file:///home/cyanos/anaconda3/envs/mazes/lib/python3.9/site-packages/equinox/jit.py?line=85'>86</a>\u001b[0m     \u001b[39mreturn\u001b[39;00m \u001b[39mself\u001b[39m\u001b[39m.\u001b[39m_cached\u001b[39m.\u001b[39mlower(dynamic, static)\n\u001b[1;32m     <a href='file:///home/cyanos/anaconda3/envs/mazes/lib/python3.9/site-packages/equinox/jit.py?line=86'>87</a>\u001b[0m \u001b[39melse\u001b[39;00m:\n\u001b[0;32m---> <a href='file:///home/cyanos/anaconda3/envs/mazes/lib/python3.9/site-packages/equinox/jit.py?line=87'>88</a>\u001b[0m     dynamic_out, static_out \u001b[39m=\u001b[39m \u001b[39mself\u001b[39;49m\u001b[39m.\u001b[39;49m_cached(dynamic, static)\n\u001b[1;32m     <a href='file:///home/cyanos/anaconda3/envs/mazes/lib/python3.9/site-packages/equinox/jit.py?line=88'>89</a>\u001b[0m     \u001b[39mreturn\u001b[39;00m combine(dynamic_out, static_out\u001b[39m.\u001b[39mvalue)\n",
      "File \u001b[0;32m~/anaconda3/envs/mazes/lib/python3.9/site-packages/equinox/module.py:263\u001b[0m, in \u001b[0;36mModule.tree_unflatten\u001b[0;34m(cls, aux, dynamic_field_values)\u001b[0m\n\u001b[1;32m    <a href='file:///home/cyanos/anaconda3/envs/mazes/lib/python3.9/site-packages/equinox/module.py?line=255'>256</a>\u001b[0m             dynamic_field_values\u001b[39m.\u001b[39mappend(value)\n\u001b[1;32m    <a href='file:///home/cyanos/anaconda3/envs/mazes/lib/python3.9/site-packages/equinox/module.py?line=256'>257</a>\u001b[0m     \u001b[39mreturn\u001b[39;00m \u001b[39mtuple\u001b[39m(dynamic_field_values), (\n\u001b[1;32m    <a href='file:///home/cyanos/anaconda3/envs/mazes/lib/python3.9/site-packages/equinox/module.py?line=257'>258</a>\u001b[0m         \u001b[39mtuple\u001b[39m(dynamic_field_names),\n\u001b[1;32m    <a href='file:///home/cyanos/anaconda3/envs/mazes/lib/python3.9/site-packages/equinox/module.py?line=258'>259</a>\u001b[0m         \u001b[39mtuple\u001b[39m(static_field_names),\n\u001b[1;32m    <a href='file:///home/cyanos/anaconda3/envs/mazes/lib/python3.9/site-packages/equinox/module.py?line=259'>260</a>\u001b[0m         \u001b[39mtuple\u001b[39m(static_field_values),\n\u001b[1;32m    <a href='file:///home/cyanos/anaconda3/envs/mazes/lib/python3.9/site-packages/equinox/module.py?line=260'>261</a>\u001b[0m     )\n\u001b[0;32m--> <a href='file:///home/cyanos/anaconda3/envs/mazes/lib/python3.9/site-packages/equinox/module.py?line=262'>263</a>\u001b[0m \u001b[39m@classmethod\u001b[39m\n\u001b[1;32m    <a href='file:///home/cyanos/anaconda3/envs/mazes/lib/python3.9/site-packages/equinox/module.py?line=263'>264</a>\u001b[0m \u001b[39mdef\u001b[39;00m \u001b[39mtree_unflatten\u001b[39m(\u001b[39mcls\u001b[39m, aux, dynamic_field_values):\n\u001b[1;32m    <a href='file:///home/cyanos/anaconda3/envs/mazes/lib/python3.9/site-packages/equinox/module.py?line=264'>265</a>\u001b[0m     \u001b[39mself\u001b[39m \u001b[39m=\u001b[39m \u001b[39mcls\u001b[39m\u001b[39m.\u001b[39m\u001b[39m__new__\u001b[39m(\u001b[39mcls\u001b[39m)\n\u001b[1;32m    <a href='file:///home/cyanos/anaconda3/envs/mazes/lib/python3.9/site-packages/equinox/module.py?line=265'>266</a>\u001b[0m     dynamic_field_names, static_field_names, static_field_values \u001b[39m=\u001b[39m aux\n",
      "\u001b[0;31mKeyboardInterrupt\u001b[0m: "
     ]
    }
   ],
   "source": [
    "key = rng\n",
    "dl = DataLoader(datasets['train'], batch_size)\n",
    "for epoch in range(1, num_epochs + 1):\n",
    "  # Run an optimization step over a training batch\n",
    "  start_time = time.time()\n",
    "  key, skey = jax.random.split(key)\n",
    "  # perms = ds_perms(50, skey, datasets['train'])\n",
    "  dl.new_perms(skey)\n",
    "  state = train_epoch(state, dl, epoch)\n",
    "  epoch_time = time.time() - start_time\n",
    "  print(\"Epoch {} in {:0.2f} sec\".format(epoch, epoch_time))"
   ]
  },
  {
   "cell_type": "code",
   "execution_count": 17,
   "metadata": {},
   "outputs": [
    {
     "data": {
      "text/plain": [
       "Sequential(\n",
       "  layers=[\n",
       "    BacisBlock2D(\n",
       "      conv1=Conv2d(\n",
       "        num_spatial_dims=2,\n",
       "        weight=f32[128,128,3,3],\n",
       "        bias=None,\n",
       "        in_channels=128,\n",
       "        out_channels=128,\n",
       "        kernel_size=(3, 3),\n",
       "        stride=(1, 1),\n",
       "        padding=((1, 1), (1, 1)),\n",
       "        dilation=(1, 1),\n",
       "        use_bias=False\n",
       "      ),\n",
       "      conv2=Conv2d(\n",
       "        num_spatial_dims=2,\n",
       "        weight=f32[128,128,3,3],\n",
       "        bias=None,\n",
       "        in_channels=128,\n",
       "        out_channels=128,\n",
       "        kernel_size=(3, 3),\n",
       "        stride=(1, 1),\n",
       "        padding=((1, 1), (1, 1)),\n",
       "        dilation=(1, 1),\n",
       "        use_bias=False\n",
       "      )\n",
       "    ),\n",
       "    BacisBlock2D(\n",
       "      conv1=Conv2d(\n",
       "        num_spatial_dims=2,\n",
       "        weight=f32[128,128,3,3],\n",
       "        bias=None,\n",
       "        in_channels=128,\n",
       "        out_channels=128,\n",
       "        kernel_size=(3, 3),\n",
       "        stride=(1, 1),\n",
       "        padding=((1, 1), (1, 1)),\n",
       "        dilation=(1, 1),\n",
       "        use_bias=False\n",
       "      ),\n",
       "      conv2=Conv2d(\n",
       "        num_spatial_dims=2,\n",
       "        weight=f32[128,128,3,3],\n",
       "        bias=None,\n",
       "        in_channels=128,\n",
       "        out_channels=128,\n",
       "        kernel_size=(3, 3),\n",
       "        stride=(1, 1),\n",
       "        padding=((1, 1), (1, 1)),\n",
       "        dilation=(1, 1),\n",
       "        use_bias=False\n",
       "      )\n",
       "    )\n",
       "  ]\n",
       ")"
      ]
     },
     "execution_count": 17,
     "metadata": {},
     "output_type": "execute_result"
    }
   ],
   "source": [
    "state.params"
   ]
  },
  {
   "cell_type": "code",
   "execution_count": 24,
   "metadata": {},
   "outputs": [
    {
     "name": "stderr",
     "output_type": "stream",
     "text": [
      "/tmp/ipykernel_77244/2600573195.py:1: DeprecationWarning: Calling np.sum(generator) is deprecated, and in the future will give a different result. Use np.sum(np.fromiter(generator)) or the python sum builtin instead.\n",
      "  param_count = np.sum(x.size for x in jax.tree_leaves(state[0]))\n"
     ]
    }
   ],
   "source": [
    "param_count = np.sum(x.size for x in jax.tree_leaves(state[0]))"
   ]
  }
 ],
 "metadata": {
  "interpreter": {
   "hash": "2f1f03795c8ce0f255458d01ce64668c98eb124149da6a816eabfdbdb486ee95"
  },
  "kernelspec": {
   "display_name": "Python 3.9.12 ('mazes')",
   "language": "python",
   "name": "python3"
  },
  "language_info": {
   "codemirror_mode": {
    "name": "ipython",
    "version": 3
   },
   "file_extension": ".py",
   "mimetype": "text/x-python",
   "name": "python",
   "nbconvert_exporter": "python",
   "pygments_lexer": "ipython3",
   "version": "3.9.12"
  },
  "orig_nbformat": 4
 },
 "nbformat": 4,
 "nbformat_minor": 2
}
